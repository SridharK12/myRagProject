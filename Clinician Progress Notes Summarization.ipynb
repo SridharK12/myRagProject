{
 "cells": [
  {
   "cell_type": "code",
   "execution_count": 1,
   "id": "56d9fe8d",
   "metadata": {},
   "outputs": [],
   "source": [
    "#This is a generic chat RAG with pdf document. Keep your pdf document in the documents folder\n",
    "#otherwises you change the folder name and keep the pdf documents there,\n",
    "#It was run on a physics tutorial"
   ]
  },
  {
   "cell_type": "code",
   "execution_count": 2,
   "id": "9a379b50",
   "metadata": {
    "ExecuteTime": {
     "end_time": "2025-05-17T20:25:40.232289Z",
     "start_time": "2025-05-17T20:25:40.227919Z"
    }
   },
   "outputs": [],
   "source": [
    "from langchain_community.document_loaders import DirectoryLoader, PyPDFLoader"
   ]
  },
  {
   "cell_type": "code",
   "execution_count": 3,
   "id": "f7db9aa4",
   "metadata": {
    "ExecuteTime": {
     "end_time": "2025-05-17T20:25:40.245415Z",
     "start_time": "2025-05-17T20:25:40.241977Z"
    }
   },
   "outputs": [],
   "source": [
    "loader = DirectoryLoader(\n",
    "    path=\"I:\\Sridhar\\\\Data\\\\Java\",\n",
    "    glob=\"*.pdf\",\n",
    "    loader_cls=PyPDFLoader\n",
    ")"
   ]
  },
  {
   "cell_type": "code",
   "execution_count": 4,
   "id": "3b4d58b2",
   "metadata": {
    "ExecuteTime": {
     "end_time": "2025-05-17T20:25:47.560419Z",
     "start_time": "2025-05-17T20:25:40.291931Z"
    }
   },
   "outputs": [],
   "source": [
    "documents = loader.load()"
   ]
  },
  {
   "cell_type": "code",
   "execution_count": 5,
   "id": "f98a7c60",
   "metadata": {
    "ExecuteTime": {
     "end_time": "2025-05-17T20:25:47.573013Z",
     "start_time": "2025-05-17T20:25:47.571457Z"
    }
   },
   "outputs": [],
   "source": [
    "from langchain_text_splitters import RecursiveCharacterTextSplitter"
   ]
  },
  {
   "cell_type": "code",
   "execution_count": 6,
   "id": "2f92ce48",
   "metadata": {
    "ExecuteTime": {
     "end_time": "2025-05-17T20:25:47.616594Z",
     "start_time": "2025-05-17T20:25:47.615111Z"
    }
   },
   "outputs": [],
   "source": [
    "splitter = RecursiveCharacterTextSplitter(chunk_size=1000, chunk_overlap=200)"
   ]
  },
  {
   "cell_type": "code",
   "execution_count": 7,
   "id": "bf013574",
   "metadata": {
    "ExecuteTime": {
     "end_time": "2025-05-17T20:25:47.663177Z",
     "start_time": "2025-05-17T20:25:47.659192Z"
    }
   },
   "outputs": [],
   "source": [
    "chunks = splitter.split_documents(documents)"
   ]
  },
  {
   "cell_type": "code",
   "execution_count": 8,
   "id": "b51dade9",
   "metadata": {
    "ExecuteTime": {
     "end_time": "2025-05-17T20:25:47.710768Z",
     "start_time": "2025-05-17T20:25:47.708345Z"
    }
   },
   "outputs": [
    {
     "name": "stdout",
     "output_type": "stream",
     "text": [
      "Total chunks: 572\n"
     ]
    }
   ],
   "source": [
    "print(f\"Total chunks: {len(chunks)}\")"
   ]
  },
  {
   "cell_type": "code",
   "execution_count": 9,
   "id": "1bda8f2f",
   "metadata": {
    "ExecuteTime": {
     "end_time": "2025-05-17T20:25:47.814778Z",
     "start_time": "2025-05-17T20:25:47.811894Z"
    }
   },
   "outputs": [
    {
     "name": "stdout",
     "output_type": "stream",
     "text": [
      "page_content='area .\n",
      "[doctor] nice . that's great . i'm glad to hear that you're staying active , you know . i , i just love this \n",
      "weather . i'm so happy the summer is over . i'm definitely more of a fall person .\n",
      "[patient] yes , fall foliage is the best .\n",
      "[doctor] yeah . um , so tell me , how are you doing with the congestive heart failure ? how are you \n",
      "doing watching your diet ? i know we've talked about watching a low sodium diet . are you doing \n",
      "okay with that ?\n",
      "[patient] i've been doing well with that . i resisted , as much , as i could , from the tater tots , you \n",
      "know , the soft pretzels , the salty foods that i , i love to eat . and i've been doing a really good job .\n",
      "[doctor] okay , all right . well , i'm glad to hear that . and you're taking your medication ?\n",
      "[patient] yes .\n",
      "[doctor] okay , good . and any symptoms like chest pains , shortness of breath , any swelling in \n",
      "your legs ?\n",
      "[patient] no , not that i've noticed .' metadata={'producer': 'Microsoft: Print To PDF', 'creator': 'PyPDF', 'creationdate': '2025-05-29T02:05:43+05:30', 'author': 'sridhar killampalli', 'moddate': '2025-05-29T02:05:43+05:30', 'title': 'Untitled 3', 'source': 'I:\\\\Sridhar\\\\Data\\\\Java\\\\progress Notes.pdf', 'total_pages': 124, 'page': 0, 'page_label': '1'}\n"
     ]
    }
   ],
   "source": [
    "for chunk in chunks[1:2]:\n",
    "    print(chunk)"
   ]
  },
  {
   "cell_type": "code",
   "execution_count": 10,
   "id": "f1b88ffa",
   "metadata": {},
   "outputs": [],
   "source": [
    "import getpass\n",
    "import os\n",
    "\n",
    "if not os.environ.get(\"OPENAI_API_KEY\"):\n",
    "  os.environ[\"OPENAI_API_KEY\"] = getpass.getpass(\"Enter API key for OpenAI: \")\n",
    "\n",
    "from langchain_openai import OpenAIEmbeddings\n",
    "\n",
    "embeddings = OpenAIEmbeddings(model=\"text-embedding-3-small\")"
   ]
  },
  {
   "cell_type": "code",
   "execution_count": 11,
   "id": "02ab540b",
   "metadata": {
    "ExecuteTime": {
     "end_time": "2025-05-17T20:26:01.660725Z",
     "start_time": "2025-05-17T20:25:55.197926Z"
    }
   },
   "outputs": [],
   "source": [
    "from langchain.vectorstores import Chroma\n",
    "\n",
    "chroma_store = Chroma.from_documents(\n",
    "    documents=chunks,\n",
    "    embedding=embeddings,\n",
    "    persist_directory=\"I:/Sridhar/Chroma_DB_PN\"\n",
    ")\n"
   ]
  },
  {
   "cell_type": "code",
   "execution_count": 12,
   "id": "08eba8d5",
   "metadata": {
    "ExecuteTime": {
     "end_time": "2025-05-17T20:26:01.692224Z",
     "start_time": "2025-05-17T20:26:01.688035Z"
    }
   },
   "outputs": [],
   "source": [
    "retriever = chroma_store.as_retriever(search_kwargs={\"k\": 50})"
   ]
  },
  {
   "cell_type": "code",
   "execution_count": 13,
   "id": "0cc2269d",
   "metadata": {
    "ExecuteTime": {
     "end_time": "2025-05-17T20:26:02.256103Z",
     "start_time": "2025-05-17T20:26:01.756231Z"
    }
   },
   "outputs": [],
   "source": [
    "#results = retriever.invoke(\"asprin\")"
   ]
  },
  {
   "cell_type": "code",
   "execution_count": 14,
   "id": "3e549c83",
   "metadata": {
    "ExecuteTime": {
     "end_time": "2025-05-17T20:26:02.270472Z",
     "start_time": "2025-05-17T20:26:02.266460Z"
    }
   },
   "outputs": [],
   "source": [
    "#for result in results:\n",
    "#    print(result.page_content)"
   ]
  },
  {
   "cell_type": "code",
   "execution_count": 15,
   "id": "40c2fb15",
   "metadata": {},
   "outputs": [],
   "source": [
    "from langchain.chat_models import init_chat_model\n",
    "model = init_chat_model(\"gpt-4o\", model_provider=\"openai\")"
   ]
  },
  {
   "cell_type": "code",
   "execution_count": 16,
   "id": "e8086253",
   "metadata": {},
   "outputs": [],
   "source": [
    "from langchain.prompts import ChatPromptTemplate\n",
    "\n",
    "# Define a chat prompt template with context and user question\n",
    "template = ChatPromptTemplate.from_messages([\n",
    "    (\"system\", \"You are a professional summarizer tasked with creating a concise, comprehensive summary of the full document. Maintain neutrality, preserve key ideas, and write in formal, clear language.\"),\n",
    "    (\"user\", \"Context: {context}\\n\\nQuestion: {question}\")\n",
    "])\n"
   ]
  },
  {
   "cell_type": "code",
   "execution_count": 23,
   "id": "42f31d5b",
   "metadata": {},
   "outputs": [],
   "source": [
    "# User's question\n",
    "user_question = \"Please provide me a summary of Stephanine's ailments, symptoms and treatment provided\"\n",
    "\n",
    "# Retrieve relevant documents\n",
    "docs = retriever.invoke(user_question)\n",
    "context = \"\\n\".join([doc.page_content for doc in docs])\n"
   ]
  },
  {
   "cell_type": "code",
   "execution_count": 24,
   "id": "14ec4403",
   "metadata": {},
   "outputs": [],
   "source": [
    "# Format the prompt with retrieved context and the user's question\n",
    "formatted_prompt = template.format(context=context, question=user_question)"
   ]
  },
  {
   "cell_type": "code",
   "execution_count": 25,
   "id": "be2dd505",
   "metadata": {},
   "outputs": [
    {
     "name": "stdout",
     "output_type": "stream",
     "text": [
      "Stephanie is a 49-year-old female with a medical history of congestive heart failure, kidney stones, and a prior colonoscopy, who presented with an abnormal lab finding, specifically low hemoglobin levels. Her symptoms include persistent fatigue and dizziness over the past few months, leading to exhaustion from activities such as walking a mile or working. The doctor plans to assist her in scheduling necessary follow-up appointments. Additionally, Stephanie requires a prescription for allopurinol, which the doctor ordered at 100 milligrams once daily to address her needs. Discussions regarding her care continue, with the doctor noting that the nurse will help schedule necessary procedures or follow-ups as part of her treatment plan.\n"
     ]
    }
   ],
   "source": [
    "#from langchain.llms import OpenAI  # or your preferred LLM\n",
    "\n",
    "#llm = OpenAI(model=\"gpt-3.5-turbo\")  # adjust model as needed\n",
    "\n",
    "# Get the answer\n",
    "response = model.invoke(formatted_prompt)\n",
    "print(response.content)\n"
   ]
  },
  {
   "cell_type": "code",
   "execution_count": null,
   "id": "f0e8e0ff",
   "metadata": {},
   "outputs": [],
   "source": [
    "#https://vitaliihonchar.com/insights/python-rag-api"
   ]
  }
 ],
 "metadata": {
  "kernelspec": {
   "display_name": "Python 3 (ipykernel)",
   "language": "python",
   "name": "python3"
  },
  "language_info": {
   "codemirror_mode": {
    "name": "ipython",
    "version": 3
   },
   "file_extension": ".py",
   "mimetype": "text/x-python",
   "name": "python",
   "nbconvert_exporter": "python",
   "pygments_lexer": "ipython3",
   "version": "3.11.5"
  }
 },
 "nbformat": 4,
 "nbformat_minor": 5
}
