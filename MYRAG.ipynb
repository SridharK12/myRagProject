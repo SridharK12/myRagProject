{
 "cells": [
  {
   "cell_type": "code",
   "execution_count": null,
   "id": "9c6a583b",
   "metadata": {},
   "outputs": [],
   "source": [
    "#This is a generic chat RAG with pdf document. Keep your pdf document in the documents folder\n",
    "#otherwises you change the folder name and keep the pdf documents there,\n",
    "#It was run on a physics tutorial"
   ]
  },
  {
   "cell_type": "code",
   "execution_count": null,
   "id": "9a379b50",
   "metadata": {
    "ExecuteTime": {
     "end_time": "2025-05-17T20:25:40.232289Z",
     "start_time": "2025-05-17T20:25:40.227919Z"
    }
   },
   "outputs": [],
   "source": [
    "from langchain_community.document_loaders import DirectoryLoader, PyPDFLoader"
   ]
  },
  {
   "cell_type": "code",
   "execution_count": null,
   "id": "f7db9aa4",
   "metadata": {
    "ExecuteTime": {
     "end_time": "2025-05-17T20:25:40.245415Z",
     "start_time": "2025-05-17T20:25:40.241977Z"
    }
   },
   "outputs": [],
   "source": [
    "loader = DirectoryLoader(\n",
    "    path=\"./documents\",\n",
    "    glob=\"*.pdf\",\n",
    "    loader_cls=PyPDFLoader\n",
    ")"
   ]
  },
  {
   "cell_type": "code",
   "execution_count": null,
   "id": "3b4d58b2",
   "metadata": {
    "ExecuteTime": {
     "end_time": "2025-05-17T20:25:47.560419Z",
     "start_time": "2025-05-17T20:25:40.291931Z"
    }
   },
   "outputs": [],
   "source": [
    "documents = loader.load()"
   ]
  },
  {
   "cell_type": "code",
   "execution_count": null,
   "id": "f98a7c60",
   "metadata": {
    "ExecuteTime": {
     "end_time": "2025-05-17T20:25:47.573013Z",
     "start_time": "2025-05-17T20:25:47.571457Z"
    }
   },
   "outputs": [],
   "source": [
    "from langchain_text_splitters import RecursiveCharacterTextSplitter"
   ]
  },
  {
   "cell_type": "code",
   "execution_count": null,
   "id": "2f92ce48",
   "metadata": {
    "ExecuteTime": {
     "end_time": "2025-05-17T20:25:47.616594Z",
     "start_time": "2025-05-17T20:25:47.615111Z"
    }
   },
   "outputs": [],
   "source": [
    "splitter = RecursiveCharacterTextSplitter(chunk_size=1000, chunk_overlap=100)"
   ]
  },
  {
   "cell_type": "code",
   "execution_count": null,
   "id": "bf013574",
   "metadata": {
    "ExecuteTime": {
     "end_time": "2025-05-17T20:25:47.663177Z",
     "start_time": "2025-05-17T20:25:47.659192Z"
    }
   },
   "outputs": [],
   "source": [
    "chunks = splitter.split_documents(documents)"
   ]
  },
  {
   "cell_type": "code",
   "execution_count": null,
   "id": "b51dade9",
   "metadata": {
    "ExecuteTime": {
     "end_time": "2025-05-17T20:25:47.710768Z",
     "start_time": "2025-05-17T20:25:47.708345Z"
    }
   },
   "outputs": [],
   "source": [
    "print(f\"Total chunks: {len(chunks)}\")"
   ]
  },
  {
   "cell_type": "code",
   "execution_count": null,
   "id": "1bda8f2f",
   "metadata": {
    "ExecuteTime": {
     "end_time": "2025-05-17T20:25:47.814778Z",
     "start_time": "2025-05-17T20:25:47.811894Z"
    }
   },
   "outputs": [],
   "source": [
    "for chunk in chunks[1:5]:\n",
    "    print(chunk)"
   ]
  },
  {
   "cell_type": "code",
   "execution_count": null,
   "id": "026de7b7",
   "metadata": {
    "ExecuteTime": {
     "end_time": "2025-05-17T20:25:51.549283Z",
     "start_time": "2025-05-17T20:25:47.859897Z"
    }
   },
   "outputs": [],
   "source": [
    "%pip install -qU langchain-google-vertexai chromadb --user"
   ]
  },
  {
   "cell_type": "code",
   "execution_count": null,
   "id": "2eb0ea44",
   "metadata": {
    "ExecuteTime": {
     "end_time": "2025-05-17T20:25:52.319109Z",
     "start_time": "2025-05-17T20:25:51.563206Z"
    }
   },
   "outputs": [],
   "source": [
    "!pip install blosc2"
   ]
  },
  {
   "cell_type": "code",
   "execution_count": null,
   "id": "5c5bb6d2",
   "metadata": {
    "ExecuteTime": {
     "end_time": "2025-05-17T20:25:53.303321Z",
     "start_time": "2025-05-17T20:25:52.329454Z"
    }
   },
   "outputs": [],
   "source": [
    "!pip install --upgrade Cython==0.29.21"
   ]
  },
  {
   "cell_type": "code",
   "execution_count": null,
   "id": "20380239",
   "metadata": {
    "ExecuteTime": {
     "end_time": "2025-05-17T20:25:53.312898Z",
     "start_time": "2025-05-17T20:25:53.310861Z"
    }
   },
   "outputs": [],
   "source": [
    "from langchain_google_vertexai import VertexAIEmbeddings"
   ]
  },
  {
   "cell_type": "code",
   "execution_count": null,
   "id": "437f5cae",
   "metadata": {
    "ExecuteTime": {
     "end_time": "2025-05-17T20:25:53.356319Z",
     "start_time": "2025-05-17T20:25:53.354263Z"
    }
   },
   "outputs": [],
   "source": [
    "# import os\n",
    "# os.environ[\"GOOGLE_CLOUD_PROJECT\"] = \"747074493049\"\n",
    "\n",
    "from google.cloud import aiplatform\n",
    "\n",
    "# Directly set the project ID and location\n",
    "aiplatform.init(\n",
    "    project=\"**********\",   # your actual project ID\n",
    "    location=\"*********\"             # or your chosen region\n",
    ")"
   ]
  },
  {
   "cell_type": "code",
   "execution_count": null,
   "id": "1e70a849",
   "metadata": {
    "ExecuteTime": {
     "end_time": "2025-05-17T20:25:55.185661Z",
     "start_time": "2025-05-17T20:25:53.399367Z"
    }
   },
   "outputs": [],
   "source": [
    "embedding_model = \"text-embedding-004\"\n",
    "embeddings = VertexAIEmbeddings(model_name=embedding_model)\n"
   ]
  },
  {
   "cell_type": "code",
   "execution_count": null,
   "id": "02ab540b",
   "metadata": {
    "ExecuteTime": {
     "end_time": "2025-05-17T20:26:01.660725Z",
     "start_time": "2025-05-17T20:25:55.197926Z"
    }
   },
   "outputs": [],
   "source": [
    "from langchain.vectorstores import Chroma\n",
    "\n",
    "chroma_store = Chroma.from_documents(\n",
    "    documents=chunks,\n",
    "    embedding=embeddings,\n",
    "    persist_directory=\"./chroma_db\"\n",
    ")\n"
   ]
  },
  {
   "cell_type": "code",
   "execution_count": null,
   "id": "08eba8d5",
   "metadata": {
    "ExecuteTime": {
     "end_time": "2025-05-17T20:26:01.692224Z",
     "start_time": "2025-05-17T20:26:01.688035Z"
    }
   },
   "outputs": [],
   "source": [
    "retriever = chroma_store.as_retriever(search_kwargs={\"k\": 3})"
   ]
  },
  {
   "cell_type": "code",
   "execution_count": null,
   "id": "0cc2269d",
   "metadata": {
    "ExecuteTime": {
     "end_time": "2025-05-17T20:26:02.256103Z",
     "start_time": "2025-05-17T20:26:01.756231Z"
    }
   },
   "outputs": [],
   "source": [
    "results = retriever.invoke(\"Force\")"
   ]
  },
  {
   "cell_type": "code",
   "execution_count": null,
   "id": "3e549c83",
   "metadata": {
    "ExecuteTime": {
     "end_time": "2025-05-17T20:26:02.270472Z",
     "start_time": "2025-05-17T20:26:02.266460Z"
    }
   },
   "outputs": [],
   "source": [
    "for result in results:\n",
    "    print(result.page_content)"
   ]
  },
  {
   "cell_type": "code",
   "execution_count": null,
   "id": "5339fed9ef2f551b",
   "metadata": {
    "ExecuteTime": {
     "end_time": "2025-05-17T20:26:02.322504Z",
     "start_time": "2025-05-17T20:26:02.318667Z"
    }
   },
   "outputs": [],
   "source": [
    "from langchain_core.prompts import ChatPromptTemplate\n",
    "\n",
    "template = \"\"\"\n",
    "Answer the question based only on this context if anything is outside the scope of the provided context go ahead and say it but do mention that it's outside the scope of the context:\n",
    "{context}\n",
    "\n",
    "Question: {question}\n",
    "\"\"\"\n",
    "\n",
    "prompt = ChatPromptTemplate.from_template(template)"
   ]
  },
  {
   "cell_type": "code",
   "execution_count": null,
   "id": "415f0f7a22ada285",
   "metadata": {
    "ExecuteTime": {
     "end_time": "2025-05-17T20:26:02.378985Z",
     "start_time": "2025-05-17T20:26:02.376162Z"
    }
   },
   "outputs": [],
   "source": [
    "from langchain.chat_models import init_chat_model\n",
    "\n",
    "#llm to pass these chunks to\n",
    "llm = init_chat_model(\"gemini-2.0-flash-001\", model_provider=\"google_vertexai\")"
   ]
  },
  {
   "cell_type": "code",
   "execution_count": null,
   "id": "d5f7d41764b795b4",
   "metadata": {
    "ExecuteTime": {
     "end_time": "2025-05-17T20:26:02.424726Z",
     "start_time": "2025-05-17T20:26:02.419947Z"
    }
   },
   "outputs": [],
   "source": [
    "++from langchain_core.runnables import RunnablePassthrough\n",
    "\n",
    "#Runnable passthrough passes any input to the next chain\n",
    "\n",
    "\n",
    "# Assuming you already have:\n",
    "# - retriever = chroma_store.as_retriever()\n",
    "# - llm = ChatVertexAI(...)\n",
    "\n",
    "def format_docs(docs):\n",
    "    return \"\\n\\n\".join(doc.page_content for doc in docs)\n",
    "\n",
    "rag_chain = (\n",
    "    {\"context\": retriever | format_docs, \"question\": RunnablePassthrough()}\n",
    "    | prompt\n",
    "    | llm\n",
    ")"
   ]
  },
  {
   "cell_type": "code",
   "execution_count": null,
   "id": "dc7babf67d532bdc",
   "metadata": {
    "ExecuteTime": {
     "end_time": "2025-05-17T20:27:01.154661Z",
     "start_time": "2025-05-17T20:26:02.472294Z"
    }
   },
   "outputs": [],
   "source": [
    "# Testing out ragchain\n",
    "\n",
    "questions = [\"What is a balanced and an unbalanced force\",\n",
    "             \"Is mass the only quantifying factor of inertia\",\n",
    "             \"Given a body that has 5N force in the right direction and 4N of force in the left direction is the object in equilibrium (ignore gravity)\",\n",
    "             \"What is the Newton's first law, given the second law isn't this obvious why is there a necessity of the first law\",\n",
    "             \"What is the formula for gravity\",\n",
    "             \"Given the gravitational force using basic laws of force can u calculate the centripetal force required to sustain a circular orbit of radius u\"\n",
    "             ]\n",
    "\n",
    "for question in questions:\n",
    "    result = rag_chain.invoke(question)\n",
    "    print(question)\n",
    "    print(f\"Ans : {result.content}\")\n",
    "    print(\"_\"*50)\n"
   ]
  },
  {
   "cell_type": "code",
   "execution_count": null,
   "id": "781ddbcf",
   "metadata": {
    "ExecuteTime": {
     "end_time": "2025-05-17T20:27:12.268233Z",
     "start_time": "2025-05-17T20:27:01.168334Z"
    }
   },
   "outputs": [],
   "source": [
    "%pip install streamlit"
   ]
  },
  {
   "cell_type": "code",
   "execution_count": null,
   "id": "7a051289",
   "metadata": {
    "ExecuteTime": {
     "end_time": "2025-05-17T20:27:12.282627Z",
     "start_time": "2025-05-17T20:27:12.281452Z"
    }
   },
   "outputs": [],
   "source": []
  }
 ],
 "metadata": {
  "kernelspec": {
   "display_name": "Python 3 (ipykernel)",
   "language": "python",
   "name": "python3"
  },
  "language_info": {
   "codemirror_mode": {
    "name": "ipython",
    "version": 3
   },
   "file_extension": ".py",
   "mimetype": "text/x-python",
   "name": "python",
   "nbconvert_exporter": "python",
   "pygments_lexer": "ipython3",
   "version": "3.11.5"
  }
 },
 "nbformat": 4,
 "nbformat_minor": 5
}
