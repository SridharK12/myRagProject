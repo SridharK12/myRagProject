{
 "cells": [
  {
   "cell_type": "code",
   "execution_count": 1,
   "id": "9a379b50",
   "metadata": {},
   "outputs": [],
   "source": [
    "from langchain_community.document_loaders import DirectoryLoader, PyPDFLoader"
   ]
  },
  {
   "cell_type": "code",
   "execution_count": 2,
   "id": "f7db9aa4",
   "metadata": {},
   "outputs": [],
   "source": [
    "loader = DirectoryLoader(\n",
    "    path=\"I:\\\\Sridhar\\\\Data\\\\Budget\",\n",
    "    glob=\"*.pdf\",\n",
    "    loader_cls=PyPDFLoader\n",
    ")"
   ]
  },
  {
   "cell_type": "code",
   "execution_count": 3,
   "id": "3b4d58b2",
   "metadata": {},
   "outputs": [],
   "source": [
    "documents = loader.load()"
   ]
  },
  {
   "cell_type": "code",
   "execution_count": 4,
   "id": "f98a7c60",
   "metadata": {},
   "outputs": [],
   "source": [
    "from langchain_text_splitters import RecursiveCharacterTextSplitter"
   ]
  },
  {
   "cell_type": "code",
   "execution_count": 5,
   "id": "2f92ce48",
   "metadata": {},
   "outputs": [],
   "source": [
    "splitter = RecursiveCharacterTextSplitter(chunk_size=1000, chunk_overlap=100)"
   ]
  },
  {
   "cell_type": "code",
   "execution_count": 6,
   "id": "bf013574",
   "metadata": {},
   "outputs": [],
   "source": [
    "chunks = splitter.split_documents(documents)"
   ]
  },
  {
   "cell_type": "code",
   "execution_count": 7,
   "id": "b51dade9",
   "metadata": {},
   "outputs": [
    {
     "name": "stdout",
     "output_type": "stream",
     "text": [
      "Total chunks: 134\n"
     ]
    }
   ],
   "source": [
    "print(f\"Total chunks: {len(chunks)}\")"
   ]
  },
  {
   "cell_type": "code",
   "execution_count": 8,
   "id": "1bda8f2f",
   "metadata": {},
   "outputs": [
    {
     "name": "stdout",
     "output_type": "stream",
     "text": [
      "page_content='CONTENTS \n",
      " \n",
      "PART – A \n",
      " Page No. \n",
      "Introduction 1 \n",
      "Budget Theme 1 \n",
      "Agriculture as the 1st engine 3 \n",
      "MSMEs as the 2nd engine 6 \n",
      "Investment as the 3rd engine 8 \n",
      "A. Investing in People 8 \n",
      "B. Investing in the Economy 10 \n",
      "C. Investing in Innovation 14 \n",
      "Exports as the 4th engine 15 \n",
      "Reforms as the Fuel 16 \n",
      "Fiscal Policy 18 \n",
      " \n",
      " \n",
      "PART – B \n",
      "Indirect taxes 20 \n",
      "Direct Taxes  23 \n",
      " \n",
      "Annexure to Part-A 29 \n",
      "Annexure to Part-B 31' metadata={'producer': 'Microsoft® Word 2021', 'creator': 'Microsoft® Word 2021', 'creationdate': '2025-02-01T03:54:26+05:30', 'author': 'hss', 'moddate': '2025-02-01T03:56:01+05:30', 'title': '', 'source': 'I:\\\\Sridhar\\\\Data\\\\Budget\\\\budget_speech.pdf', 'total_pages': 60, 'page': 2, 'page_label': '3'}\n",
      "page_content='Budget 2025-2026 \n",
      " \n",
      "Speech of \n",
      "Nirmala Sitharaman \n",
      "Minister of Finance \n",
      "February 1, 2025 \n",
      "Hon’ble Speaker,  \n",
      " I present the Budget for 2025-26. \n",
      "Introduction \n",
      "1. This Budget continues our Government’s efforts to: \n",
      "a) accelerate growth,  \n",
      "b) secure inclusive development,  \n",
      "c) invigorate private sector investments,  \n",
      "d) uplift household sentiments, and \n",
      "e) enhance spending power of India’s rising middle class.  \n",
      "2. Together, we embark on a journey to unlock our nation’s tremendous \n",
      "potential for greater prosperity and global positioning under the leadership of \n",
      "Hon’ble Prime Minister Shri Narendra Modi. \n",
      "3. As we complete the first quarter of the 21 st century, continuing \n",
      "geopolitical headwinds suggest lower  global economic growth over the \n",
      "medium term. However, our aspiration for a Viksit Bharat inspires us, and the \n",
      "transformative work we have done during our Government’s first two terms \n",
      "guides us, to march forward resolutely.  \n",
      "Budget Theme' metadata={'producer': 'Microsoft® Word 2021', 'creator': 'Microsoft® Word 2021', 'creationdate': '2025-02-01T03:54:26+05:30', 'author': 'hss', 'moddate': '2025-02-01T03:56:01+05:30', 'title': '', 'source': 'I:\\\\Sridhar\\\\Data\\\\Budget\\\\budget_speech.pdf', 'total_pages': 60, 'page': 4, 'page_label': '5'}\n",
      "page_content='guides us, to march forward resolutely.  \n",
      "Budget Theme \n",
      "4. Our economy is the fastest-growing among all major global economies. \n",
      "Our development track record of the past 10 years and structural reforms have \n",
      "drawn global attention. Confidence in India’s capability and potential has only' metadata={'producer': 'Microsoft® Word 2021', 'creator': 'Microsoft® Word 2021', 'creationdate': '2025-02-01T03:54:26+05:30', 'author': 'hss', 'moddate': '2025-02-01T03:56:01+05:30', 'title': '', 'source': 'I:\\\\Sridhar\\\\Data\\\\Budget\\\\budget_speech.pdf', 'total_pages': 60, 'page': 4, 'page_label': '5'}\n",
      "page_content='2  \n",
      " \n",
      "grown in this period. We see the next five years as a unique opportunity to \n",
      "realize ‘Sabka Vikas’, stimulating balanced growth of all regions. \n",
      "5. The great Telugu poet and playwright Gurajada Appa Rao had said, \n",
      "‘Desamante Matti Kaadoi, Desamante Manushuloi’; meaning, ‘A country is not \n",
      "just its soil, a country is its people.’ In line with this, for us, Viksit Bharat, \n",
      "encompasses: \n",
      "a) zero-poverty; \n",
      "b) hundred per cent good quality school education;   \n",
      "c) access to high-quality, affordable, and comprehensive healthcare; \n",
      "d) hundred per cent skilled labour with meaningful employment; \n",
      "e) seventy per cent women in economic activities; and \n",
      "f) farmers making our country the ‘food basket of the world’.  \n",
      "6. In this Budget, the proposed development measures span ten broad \n",
      "areas focusing on Garib, Youth, Annadata and Nari. \n",
      "1) Spurring Agricultural Growth and Productivity; \n",
      "2) Building Rural Prosperity and Resilience;  \n",
      "3) Taking Everyone Together on an Inclusive Growth path;' metadata={'producer': 'Microsoft® Word 2021', 'creator': 'Microsoft® Word 2021', 'creationdate': '2025-02-01T03:54:26+05:30', 'author': 'hss', 'moddate': '2025-02-01T03:56:01+05:30', 'title': '', 'source': 'I:\\\\Sridhar\\\\Data\\\\Budget\\\\budget_speech.pdf', 'total_pages': 60, 'page': 5, 'page_label': '6'}\n"
     ]
    }
   ],
   "source": [
    "for chunk in chunks[1:5]:\n",
    "    print(chunk)"
   ]
  },
  {
   "cell_type": "code",
   "execution_count": null,
   "id": "026de7b7",
   "metadata": {},
   "outputs": [],
   "source": [
    "%pip install -qU langchain-google-vertexai chromadb --user"
   ]
  },
  {
   "cell_type": "code",
   "execution_count": null,
   "id": "2eb0ea44",
   "metadata": {},
   "outputs": [],
   "source": [
    "!pip install blosc2"
   ]
  },
  {
   "cell_type": "code",
   "execution_count": null,
   "id": "5c5bb6d2",
   "metadata": {},
   "outputs": [],
   "source": [
    "!pip install --upgrade Cython==0.29.21"
   ]
  },
  {
   "cell_type": "code",
   "execution_count": 9,
   "id": "20380239",
   "metadata": {},
   "outputs": [],
   "source": [
    "from langchain_google_vertexai import VertexAIEmbeddings"
   ]
  },
  {
   "cell_type": "code",
   "execution_count": 10,
   "id": "437f5cae",
   "metadata": {},
   "outputs": [],
   "source": [
    "import os\n",
    "os.environ[\"GOOGLE_CLOUD_PROJECT\"] = \"747074493049\""
   ]
  },
  {
   "cell_type": "code",
   "execution_count": 12,
   "id": "1e70a849",
   "metadata": {},
   "outputs": [],
   "source": [
    "embedding_model = \"text-embedding-005\"\n",
    "embeddings = VertexAIEmbeddings(model_name=embedding_model)\n"
   ]
  },
  {
   "cell_type": "code",
   "execution_count": 13,
   "id": "02ab540b",
   "metadata": {},
   "outputs": [],
   "source": [
    "from langchain.vectorstores import Chroma\n",
    "\n",
    "chroma_store = Chroma.from_documents(\n",
    "    documents=chunks,\n",
    "    embedding=embeddings,\n",
    "    persist_directory=\"./chroma_db\"\n",
    ")\n"
   ]
  },
  {
   "cell_type": "code",
   "execution_count": 14,
   "id": "08eba8d5",
   "metadata": {},
   "outputs": [],
   "source": [
    "retriever = chroma_store.as_retriever(search_kwargs={\"k\": 3})"
   ]
  },
  {
   "cell_type": "code",
   "execution_count": 15,
   "id": "0cc2269d",
   "metadata": {},
   "outputs": [],
   "source": [
    "results = retriever.invoke(\"What is the amount allocated for defence\")"
   ]
  },
  {
   "cell_type": "code",
   "execution_count": 16,
   "id": "3e549c83",
   "metadata": {},
   "outputs": [
    {
     "name": "stdout",
     "output_type": "stream",
     "text": [
      "decriminalize more than 100 provisions in various laws.   \n",
      "Fiscal Policy \n",
      "108. Now I move to fiscal policy matters.  \n",
      "Fiscal Consolidation \n",
      "109. In the July Budget, I had committed to staying the course for fiscal \n",
      "consolidation. Our endeavour will be to keep the fiscal deficit each year such \n",
      "that the Central Government debt remains on a declining path as a percentage \n",
      "of the GDP. The roadmap for the  next 6 years has been detailed in the FRBM \n",
      "statement.           \n",
      "Revised Estimates 2024-25 \n",
      "110. The Revised Estimate of the total receipts other than borrowings is  \n",
      "` 31.47 lakh crore, of which the net tax receipts are ` 25.57 lakh crore. The \n",
      "Revised Estimate of the total expenditure is ` 47.16 lakh crore, of which the \n",
      "capital expenditure is about ` 10.18 lakh crore. \n",
      "111. The Revised Estimate of the fiscal deficit is 4.8 per cent of GDP.\n",
      "decriminalize more than 100 provisions in various laws.   \n",
      "Fiscal Policy \n",
      "108. Now I move to fiscal policy matters.  \n",
      "Fiscal Consolidation \n",
      "109. In the July Budget, I had committed to staying the course for fiscal \n",
      "consolidation. Our endeavour will be to keep the fiscal deficit each year such \n",
      "that the Central Government debt remains on a declining path as a percentage \n",
      "of the GDP. The roadmap for the  next 6 years has been detailed in the FRBM \n",
      "statement.           \n",
      "Revised Estimates 2024-25 \n",
      "110. The Revised Estimate of the total receipts other than borrowings is  \n",
      "` 31.47 lakh crore, of which the net tax receipts are ` 25.57 lakh crore. The \n",
      "Revised Estimate of the total expenditure is ` 47.16 lakh crore, of which the \n",
      "capital expenditure is about ` 10.18 lakh crore. \n",
      "111. The Revised Estimate of the fiscal deficit is 4.8 per cent of GDP.\n",
      "19  \n",
      " \n",
      "Budget Estimates 2025-26 \n",
      "112. Coming to 2025 -26, the total receipts other than  borrowings and the \n",
      "total expenditure are estimated at ` 34.96 lakh crore and ` 50.65 lakh crore \n",
      "respectively. The net tax receipts are estimated at ` 28.37 lakh crore. \n",
      "113. The fiscal deficit is estimated to be 4.4 per cent of GDP. \n",
      "114. To finance the fiscal deficit, the net market borrowings from dated \n",
      "securities are estimated at ` 11.54 lakh crore. The balance financing is expected \n",
      "to come from small savings and other sources. The gross market borrowings \n",
      "are estimated at ` 14.82 lakh crore. \n",
      "I will now move to Part B.\n"
     ]
    }
   ],
   "source": [
    "for result in results:\n",
    "    print(result.page_content)"
   ]
  },
  {
   "cell_type": "code",
   "execution_count": 17,
   "id": "781ddbcf",
   "metadata": {},
   "outputs": [
    {
     "name": "stdout",
     "output_type": "stream",
     "text": [
      "Requirement already satisfied: streamlit in i:\\users\\sridh\\anaconda3\\lib\\site-packages (1.44.1)\n",
      "Requirement already satisfied: altair<6,>=4.0 in i:\\users\\sridh\\anaconda3\\lib\\site-packages (from streamlit) (5.5.0)\n",
      "Requirement already satisfied: blinker<2,>=1.0.0 in i:\\users\\sridh\\anaconda3\\lib\\site-packages (from streamlit) (1.9.0)\n",
      "Requirement already satisfied: cachetools<6,>=4.0 in i:\\users\\sridh\\anaconda3\\lib\\site-packages (from streamlit) (5.5.2)\n",
      "Requirement already satisfied: click<9,>=7.0 in i:\\users\\sridh\\anaconda3\\lib\\site-packages (from streamlit) (8.0.4)\n",
      "Requirement already satisfied: numpy<3,>=1.23 in i:\\users\\sridh\\anaconda3\\lib\\site-packages (from streamlit) (1.26.4)\n",
      "Requirement already satisfied: packaging<25,>=20 in i:\\users\\sridh\\anaconda3\\lib\\site-packages (from streamlit) (24.2)\n",
      "Requirement already satisfied: pandas<3,>=1.4.0 in i:\\users\\sridh\\anaconda3\\lib\\site-packages (from streamlit) (2.0.3)\n",
      "Requirement already satisfied: pillow<12,>=7.1.0 in i:\\users\\sridh\\anaconda3\\lib\\site-packages (from streamlit) (10.2.0)\n",
      "Requirement already satisfied: protobuf<6,>=3.20 in i:\\users\\sridh\\anaconda3\\lib\\site-packages (from streamlit) (5.29.4)\n",
      "Requirement already satisfied: pyarrow>=7.0 in i:\\users\\sridh\\anaconda3\\lib\\site-packages (from streamlit) (19.0.1)\n",
      "Requirement already satisfied: requests<3,>=2.27 in i:\\users\\sridh\\anaconda3\\lib\\site-packages (from streamlit) (2.31.0)\n",
      "Requirement already satisfied: tenacity<10,>=8.1.0 in i:\\users\\sridh\\anaconda3\\lib\\site-packages (from streamlit) (9.1.2)\n",
      "Requirement already satisfied: toml<2,>=0.10.1 in i:\\users\\sridh\\anaconda3\\lib\\site-packages (from streamlit) (0.10.2)\n",
      "Requirement already satisfied: typing-extensions<5,>=4.4.0 in i:\\users\\sridh\\anaconda3\\lib\\site-packages (from streamlit) (4.12.2)\n",
      "Requirement already satisfied: watchdog<7,>=2.1.5 in i:\\users\\sridh\\anaconda3\\lib\\site-packages (from streamlit) (2.1.6)\n",
      "Requirement already satisfied: gitpython!=3.1.19,<4,>=3.0.7 in i:\\users\\sridh\\anaconda3\\lib\\site-packages (from streamlit) (3.1.44)\n",
      "Requirement already satisfied: pydeck<1,>=0.8.0b4 in i:\\users\\sridh\\anaconda3\\lib\\site-packages (from streamlit) (0.9.1)\n",
      "Requirement already satisfied: tornado<7,>=6.0.3 in i:\\users\\sridh\\anaconda3\\lib\\site-packages (from streamlit) (6.3.2)\n",
      "Requirement already satisfied: jinja2 in i:\\users\\sridh\\anaconda3\\lib\\site-packages (from altair<6,>=4.0->streamlit) (3.1.2)\n",
      "Requirement already satisfied: jsonschema>=3.0 in c:\\users\\sridh\\appdata\\roaming\\python\\python311\\site-packages (from altair<6,>=4.0->streamlit) (4.23.0)\n",
      "Requirement already satisfied: narwhals>=1.14.2 in i:\\users\\sridh\\anaconda3\\lib\\site-packages (from altair<6,>=4.0->streamlit) (1.37.0)\n",
      "Requirement already satisfied: colorama in i:\\users\\sridh\\anaconda3\\lib\\site-packages (from click<9,>=7.0->streamlit) (0.4.6)\n",
      "Requirement already satisfied: gitdb<5,>=4.0.1 in i:\\users\\sridh\\anaconda3\\lib\\site-packages (from gitpython!=3.1.19,<4,>=3.0.7->streamlit) (4.0.12)\n",
      "Requirement already satisfied: python-dateutil>=2.8.2 in i:\\users\\sridh\\anaconda3\\lib\\site-packages (from pandas<3,>=1.4.0->streamlit) (2.8.2)\n",
      "Requirement already satisfied: pytz>=2020.1 in i:\\users\\sridh\\anaconda3\\lib\\site-packages (from pandas<3,>=1.4.0->streamlit) (2023.3.post1)\n",
      "Requirement already satisfied: tzdata>=2022.1 in i:\\users\\sridh\\anaconda3\\lib\\site-packages (from pandas<3,>=1.4.0->streamlit) (2023.3)\n",
      "Requirement already satisfied: charset-normalizer<4,>=2 in i:\\users\\sridh\\anaconda3\\lib\\site-packages (from requests<3,>=2.27->streamlit) (2.0.4)\n",
      "Requirement already satisfied: idna<4,>=2.5 in i:\\users\\sridh\\anaconda3\\lib\\site-packages (from requests<3,>=2.27->streamlit) (3.4)\n",
      "Requirement already satisfied: urllib3<3,>=1.21.1 in i:\\users\\sridh\\anaconda3\\lib\\site-packages (from requests<3,>=2.27->streamlit) (1.26.16)\n",
      "Requirement already satisfied: certifi>=2017.4.17 in i:\\users\\sridh\\anaconda3\\lib\\site-packages (from requests<3,>=2.27->streamlit) (2025.1.31)\n",
      "Requirement already satisfied: smmap<6,>=3.0.1 in i:\\users\\sridh\\anaconda3\\lib\\site-packages (from gitdb<5,>=4.0.1->gitpython!=3.1.19,<4,>=3.0.7->streamlit) (5.0.2)\n",
      "Requirement already satisfied: MarkupSafe>=2.0 in i:\\users\\sridh\\anaconda3\\lib\\site-packages (from jinja2->altair<6,>=4.0->streamlit) (2.1.1)\n",
      "Requirement already satisfied: attrs>=22.2.0 in i:\\users\\sridh\\anaconda3\\lib\\site-packages (from jsonschema>=3.0->altair<6,>=4.0->streamlit) (23.2.0)\n",
      "Requirement already satisfied: jsonschema-specifications>=2023.03.6 in c:\\users\\sridh\\appdata\\roaming\\python\\python311\\site-packages (from jsonschema>=3.0->altair<6,>=4.0->streamlit) (2025.4.1)\n",
      "Requirement already satisfied: referencing>=0.28.4 in c:\\users\\sridh\\appdata\\roaming\\python\\python311\\site-packages (from jsonschema>=3.0->altair<6,>=4.0->streamlit) (0.36.2)\n",
      "Requirement already satisfied: rpds-py>=0.7.1 in i:\\users\\sridh\\anaconda3\\lib\\site-packages (from jsonschema>=3.0->altair<6,>=4.0->streamlit) (0.24.0)\n",
      "Requirement already satisfied: six>=1.5 in i:\\users\\sridh\\anaconda3\\lib\\site-packages (from python-dateutil>=2.8.2->pandas<3,>=1.4.0->streamlit) (1.16.0)\n",
      "Note: you may need to restart the kernel to use updated packages.\n"
     ]
    }
   ],
   "source": [
    "%pip install streamlit"
   ]
  },
  {
   "cell_type": "code",
   "execution_count": null,
   "id": "7a051289",
   "metadata": {},
   "outputs": [],
   "source": []
  }
 ],
 "metadata": {
  "kernelspec": {
   "display_name": "Python 3 (ipykernel)",
   "language": "python",
   "name": "python3"
  },
  "language_info": {
   "codemirror_mode": {
    "name": "ipython",
    "version": 3
   },
   "file_extension": ".py",
   "mimetype": "text/x-python",
   "name": "python",
   "nbconvert_exporter": "python",
   "pygments_lexer": "ipython3",
   "version": "3.11.5"
  }
 },
 "nbformat": 4,
 "nbformat_minor": 5
}
