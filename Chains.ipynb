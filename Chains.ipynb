{
 "cells": [
  {
   "cell_type": "markdown",
   "id": "5df3d193",
   "metadata": {},
   "source": [
    "#Prompt Template: A reusable prompt which provides reusable blueprint/framework to create consistent and effective prompts for AI LLM models\n",
    "1. It will have placeholders \"Please give me history of {city}\" Based on the city the response will be generated\n",
    "2. Context Example: \"You are my physics teacher\""
   ]
  },
  {
   "cell_type": "code",
   "execution_count": 1,
   "id": "54d8fa7e",
   "metadata": {},
   "outputs": [
    {
     "name": "stdout",
     "output_type": "stream",
     "text": [
      "Note: you may need to restart the kernel to use updated packages.\n"
     ]
    }
   ],
   "source": [
    "#%pip install -qU \"langchain[google-vertexai]\""
   ]
  },
  {
   "cell_type": "code",
   "execution_count": 2,
   "id": "c68cc174",
   "metadata": {},
   "outputs": [],
   "source": [
    "from langchain.chat_models import init_chat_model\n",
    "\n",
    "llm = init_chat_model(\"gemini-2.0-flash-001\", model_provider=\"google_vertexai\")"
   ]
  },
  {
   "cell_type": "code",
   "execution_count": 26,
   "id": "ff8082bf",
   "metadata": {},
   "outputs": [
    {
     "data": {
      "text/plain": [
       "AIMessage(content='As President of the Indian National Congress, it\\'s both an honor and a responsibility to remember and celebrate the sacrifices and contributions of those who fought for our nation\\'s freedom. Picking just ten is incredibly difficult, as so many played crucial roles, but I would highlight the following figures, representing diverse ideologies, regions, and contributions:\\n\\n1.  **Mahatma Gandhi:** The Father of the Nation. His philosophy of non-violent resistance, Satyagraha, inspired millions and shaped the course of the freedom movement. His leadership in movements like the Non-Cooperation Movement and the Quit India Movement were pivotal.\\n\\n2.  **Jawaharlal Nehru:** A visionary leader, a staunch Congressman, and India\\'s first Prime Minister. He advocated for a socialist and secular India and played a critical role in shaping the nation\\'s early policies and its foreign policy of non-alignment.\\n\\n3.  **Sardar Vallabhbhai Patel:** The \"Iron Man of India.\" His instrumental role in integrating the princely states into the Indian Union post-independence cannot be overstated. He was a pragmatic leader and a key figure in the Congress party.\\n\\n4.  **Subhas Chandra Bose:** A charismatic leader who believed in a more assertive approach to achieving independence. He formed the Forward Bloc and later the Azad Hind Fauj (Indian National Army), demonstrating the desire for freedom resonated even amongst those who sought alternative paths.\\n\\n5.  **Bhagat Singh:** A revolutionary socialist who advocated for complete independence. His acts of defiance and sacrifice, like the bombing of the Central Legislative Assembly, ignited the passion of the youth.\\n\\n6.  **Smt. Indira Gandhi:** While her primary role was post independence, her own lineage as the daughter of Jawaharlal Nehru and her dedication to the Congress party cannot be overstated. She was a freedom fighter in her own right.\\n\\n7.  **Dr. B.R. Ambedkar:** A social reformer, jurist, and the architect of the Indian Constitution. His fight against social injustice and his advocacy for the rights of the marginalized communities were integral to the freedom struggle. He also had his own political party but was an invaluable contributor to the freedom movement.\\n\\n8.  **Maulana Abul Kalam Azad:** A prominent leader of the Indian National Congress and a staunch advocate for Hindu-Muslim unity. He was a scholar and a powerful voice against communalism.\\n\\n9.  **Sarojini Naidu:** The \"Nightingale of India.\" A poet, activist, and a prominent figure in the Congress party. She played a crucial role in the Civil Disobedience Movement and was a powerful voice for women\\'s rights.\\n\\n10. **Mangal Pandey:** A sepoy in the British East India Company who is widely regarded as a key figure in the events immediately preceding the Indian Rebellion of 1857.\\n\\nIt\\'s vital to remember that this is just a small selection. There were countless others – women like **Rani Lakshmibai, Annie Besant, and Aruna Asaf Ali**; revolutionaries like **Khudiram Bose and Chandrashekhar Azad**; and leaders from diverse backgrounds and regions who contributed to the collective struggle for independence.\\n\\nThe Indian National Congress recognizes and honors the contributions of all those who fought for our freedom. We are committed to upholding the values of democracy, secularism, and social justice that they fought for. We are the custodians of their legacy and it is our duty to carry forward their vision of a united, strong, and prosperous India.\\n', additional_kwargs={}, response_metadata={'is_blocked': False, 'safety_ratings': [], 'usage_metadata': {'prompt_token_count': 18, 'candidates_token_count': 728, 'total_token_count': 746, 'prompt_tokens_details': [{'modality': 1, 'token_count': 18}], 'candidates_tokens_details': [{'modality': 1, 'token_count': 728}], 'cached_content_token_count': 0, 'cache_tokens_details': []}, 'finish_reason': 'STOP', 'avg_logprobs': -0.37782337901356455, 'model_name': 'gemini-2.0-flash-001'}, id='run--7227375c-339b-4824-bbf6-87f4f6245dab-0', usage_metadata={'input_tokens': 18, 'output_tokens': 728, 'total_tokens': 746})"
      ]
     },
     "execution_count": 26,
     "metadata": {},
     "output_type": "execute_result"
    }
   ],
   "source": [
    "llm.invoke(\"You are president of Indian National Congress. Tell me top 10 freedom fighters of india\")"
   ]
  },
  {
   "cell_type": "code",
   "execution_count": 32,
   "id": "6ef1c627",
   "metadata": {},
   "outputs": [],
   "source": [
    "my_template= \"You are president of {politicalparty}. List down top 10 politicians of Independent India\""
   ]
  },
  {
   "cell_type": "code",
   "execution_count": 33,
   "id": "4a959582",
   "metadata": {},
   "outputs": [],
   "source": [
    "from langchain_core.prompts import PromptTemplate"
   ]
  },
  {
   "cell_type": "code",
   "execution_count": 36,
   "id": "1a06ffa4",
   "metadata": {},
   "outputs": [
    {
     "name": "stdout",
     "output_type": "stream",
     "text": [
      "You are president of CPM. List down top 10 politicians of Independent India\n"
     ]
    }
   ],
   "source": [
    "formatted_prompt = my_template.format(politicalparty=\"CPM\")\n",
    "print(formatted_prompt)"
   ]
  },
  {
   "cell_type": "code",
   "execution_count": 37,
   "id": "bd181cb4",
   "metadata": {},
   "outputs": [
    {
     "name": "stdout",
     "output_type": "stream",
     "text": [
      "Okay, if I were the President of the Communist Party of India (Marxist), my list of top 10 politicians of independent India would heavily reflect the values and priorities of the party. It would focus on leaders who championed social justice, economic equality, secularism, and the rights of the working class and marginalized communities.\n",
      "\n",
      "Here's a list I would present, keeping in mind that \"top\" is subjective and reflects a particular ideological lens:\n",
      "\n",
      "1.  **Jawaharlal Nehru:** While holding reservations about some of his policies, Nehru's commitment to secularism, non-alignment, and building a modern, industrialized India would be acknowledged. His emphasis on public sector enterprises and socialistic ideals in the early years is particularly important.\n",
      "\n",
      "2.  **Indira Gandhi:** Her policies on nationalisation of banks and abolition of privy purses were important. \n",
      "\n",
      "3.  **E.M.S. Namboodiripad:** A towering figure in the communist movement, Namboodiripad was the first Chief Minister of Kerala and led the first democratically elected communist government in the world. His contributions to land reforms, education, and decentralization would be highly valued.\n",
      "\n",
      "4.  **Jyoti Basu:** As the longest-serving Chief Minister of West Bengal, Basu oversaw significant land reforms and rural development programs. His commitment to secularism and his ability to maintain a stable government for over two decades would be recognized.\n",
      "\n",
      "5.  **B.T. Ranadive:** A prominent communist ideologue and trade union leader, Ranadive played a crucial role in organizing workers and peasants across the country. His contributions to Marxist theory and his unwavering commitment to the working class would be acknowledged.\n",
      "\n",
      "6.  **A.K. Gopalan:** A legendary communist leader and parliamentarian, Gopalan was known for his fiery speeches and his tireless advocacy for the rights of the poor and downtrodden. He was a key figure in the peasant movement and a symbol of resistance against social injustice.\n",
      "\n",
      "7.  **Harkishan Singh Surjeet:** A veteran communist leader, Surjeet played a crucial role in shaping national politics and forging alliances with other secular and progressive forces. His contributions to the farmers' movement and his commitment to social justice would be recognized.\n",
      "\n",
      "8.  **Lal Bahadur Shastri:** His focus on self-reliance, promotion of agriculture and his slogan of \"Jai Jawan, Jai Kisan\" made him popular.\n",
      "\n",
      "9.  **Ram Manohar Lohia:** A socialist leader and thinker, Lohia advocated for the rights of the backward castes and championed the cause of social justice. His emphasis on decentralization and his critique of the Congress party's policies would be acknowledged.\n",
      "\n",
      "10. **Bhupesh Gupta:** A CPI leader and a prominent parliamentarian known for his eloquent speeches and his advocacy for the rights of workers and the poor.\n",
      "\n",
      "It's important to remember that this list is subjective and reflects the values and priorities of the CPM. Other political parties and individuals would likely have different perspectives and priorities, leading to different lists.\n"
     ]
    }
   ],
   "source": [
    "result = llm.invoke(formatted_prompt)\n",
    "print(result.content)"
   ]
  },
  {
   "cell_type": "code",
   "execution_count": 44,
   "id": "480164e2",
   "metadata": {},
   "outputs": [],
   "source": [
    "def generate_response(inputString):\n",
    "    formatted_prompt = my_template.format(politicalparty=inputString)\n",
    "    result = llm.invoke(formatted_prompt)\n",
    "    return result.content"
   ]
  },
  {
   "cell_type": "code",
   "execution_count": 45,
   "id": "5a4ee10b",
   "metadata": {},
   "outputs": [
    {
     "data": {
      "text/plain": [
       "'Okay, as the (fictional) President of the BJP, here\\'s my list of 10 impactful politicians in independent India, keeping in mind their contributions to nation-building, policy, social change, and overall impact, viewed through my party\\'s lens:\\n\\n1.  **Sardar Vallabhbhai Patel:** The \"Iron Man of India,\" his decisive leadership in integrating princely states was crucial for a unified India. His pragmatism and focus on national unity are deeply admired.\\n\\n2.  **Shyama Prasad Mukherjee:** A founder of the Bharatiya Jana Sangh (the BJP\\'s predecessor), his strong advocacy for cultural nationalism, and his sacrifice for the complete integration of Jammu & Kashmir into India are foundational to our ideology.\\n\\n3.  **Atal Bihari Vajpayee:** A towering figure, his leadership as Prime Minister was marked by economic reforms, infrastructure development (like the Golden Quadrilateral), and a commitment to peaceful foreign relations. His poetry and oratory skills resonated with the masses.\\n\\n4.  **Narendra Modi:** Our current Prime Minister, his focus on economic growth, social welfare programs, and a strong national identity has transformed India\\'s global standing. His emphasis on good governance and development is unparalleled.\\n\\n5.  **Lal Krishna Advani:** A key architect of the BJP\\'s rise, his organizational skills and commitment to Hindutva ideology played a significant role in shaping the party\\'s identity and electoral success.\\n\\n6.  **Deendayal Upadhyaya:** His philosophy of Integral Humanism, emphasizing a balance between individual and societal needs, remains a guiding principle for the BJP.\\n\\n7.  **Indira Gandhi:** While we have disagreed with many of her policies, her decisive leadership during the 1971 war and her focus on certain social programs cannot be ignored.\\n\\n8.  **Chaudhary Charan Singh:** A champion of farmers and rural communities, his emphasis on agricultural development and his efforts to uplift the marginalized are noteworthy.\\n\\n9.  **Dr. B.R. Ambedkar:** As the architect of the Indian Constitution, his contributions to social justice and equality are undeniable. His efforts to uplift the Dalits and his emphasis on a casteless society are deeply respected.\\n\\n10. **Jayaprakash Narayan:** His leadership of the \"Total Revolution\" movement against corruption and authoritarianism was a significant moment in Indian history. His emphasis on social justice and democratic values is commendable.\\n\\nIt\\'s important to acknowledge that this is a subjective list, reflecting the BJP\\'s perspective. Other parties and individuals would likely have different priorities and choices.'"
      ]
     },
     "execution_count": 45,
     "metadata": {},
     "output_type": "execute_result"
    }
   ],
   "source": [
    "generate_response('BJP')"
   ]
  },
  {
   "cell_type": "code",
   "execution_count": 10,
   "id": "befe3216",
   "metadata": {},
   "outputs": [],
   "source": [
    "#Building a chain with this prompt\n",
    "celeb_prompt_temp = PromptTemplate(\n",
    "    input_variables=[\"politician\"],\n",
    "    template=generic_template\n",
    ")"
   ]
  },
  {
   "cell_type": "code",
   "execution_count": 11,
   "id": "80739b2d",
   "metadata": {},
   "outputs": [],
   "source": [
    "chain = celeb_prompt_temp | llm"
   ]
  },
  {
   "cell_type": "code",
   "execution_count": 12,
   "id": "9e6c3f85",
   "metadata": {},
   "outputs": [
    {
     "data": {
      "text/plain": [
       "AIMessage(content='Rahul Dravid hails from **Indore**, Madhya Pradesh. Although he played most of his cricket for Karnataka, he was born in Indore.\\n', additional_kwargs={}, response_metadata={'is_blocked': False, 'safety_ratings': [], 'usage_metadata': {'prompt_token_count': 9, 'candidates_token_count': 29, 'total_token_count': 38, 'prompt_tokens_details': [{'modality': 1, 'token_count': 9}], 'candidates_tokens_details': [{'modality': 1, 'token_count': 29}], 'cached_content_token_count': 0, 'cache_tokens_details': []}, 'finish_reason': 'STOP', 'avg_logprobs': -0.288052460242962, 'model_name': 'gemini-2.0-flash-001'}, id='run--ff975be3-374c-4046-abf9-b29b55012d61-0', usage_metadata={'input_tokens': 9, 'output_tokens': 29, 'total_tokens': 38})"
      ]
     },
     "execution_count": 12,
     "metadata": {},
     "output_type": "execute_result"
    }
   ],
   "source": [
    "chain.invoke({'politician': 'Rahul Dravid'})"
   ]
  },
  {
   "cell_type": "code",
   "execution_count": 46,
   "id": "6ec2633c",
   "metadata": {},
   "outputs": [],
   "source": [
    "# Lets write a prompt where we pass the context and ask response to llm\n",
    "context_template = \"\"\"\n",
    "From the context mentioned below\n",
    "{context}\n",
    "\n",
    "Try to simplify the context and explain it as if i'm five\n",
    "\n",
    "\"\"\"\n",
    "\n",
    "\n",
    "context_prompt_template = PromptTemplate(\n",
    "    input_variables=[\"context\"],\n",
    "    template=context_template\n",
    ")"
   ]
  },
  {
   "cell_type": "code",
   "execution_count": 47,
   "id": "218e5d98",
   "metadata": {},
   "outputs": [],
   "source": [
    "complext_topic = \"\"\"\n",
    "Java 1.8 Collections Framework Explained\n",
    "The Java Collections Framework (JCF) is a unified architecture for storing, retrieving, and manipulating groups of objects. It provides a set of interfaces and classes in the java.util package that help developers manage data structures efficiently and consistently[1][2][3][4][5].\n",
    "Key Concepts:\n",
    "    • Collection: A group of objects, known as elements, treated as a single unit.\n",
    "    • Framework: Provides ready-to-use interfaces, implementations, and algorithms for collections[1][2][4].\n",
    "\n",
    "Main Components\n",
    "1. Core Interfaces\n",
    "    • Collection<E>: The root interface for most collection classes (except maps). It defines basic operations like add, remove, size, isEmpty, iterator, and more[1][4][5][6].\n",
    "    • Subinterfaces:\n",
    "        ◦ List<E>: Ordered collections that allow duplicate elements (e.g., ArrayList, LinkedList).\n",
    "        ◦ Set<E>: Unordered collections that do not allow duplicates (e.g., HashSet, TreeSet).\n",
    "        ◦ Queue<E>: Collections designed for holding elements prior to processing (e.g., PriorityQueue).\n",
    "        ◦ Deque<E>: Double-ended queue, supports element insertion/removal at both ends.\n",
    "        ◦ Map<K,V>: Key-value pairs (not a true subinterface of Collection, but part of the framework). Examples: HashMap, TreeMap[4][5].\n",
    "2. Implementing Classes\n",
    "    • ArrayList, LinkedList, Vector, Stack (implement List)\n",
    "    • HashSet, LinkedHashSet, TreeSet (implement Set)\n",
    "    • PriorityQueue, ArrayDeque (implement Queue/Deque)\n",
    "    • HashMap, TreeMap, LinkedHashMap (implement Map)[5][6]\n",
    "\n",
    "Common Methods in Collections\n",
    "    • add(E e): Add an element\n",
    "    • remove(Object o): Remove an element\n",
    "    • contains(Object o): Check if an element exists\n",
    "    • size(): Number of elements\n",
    "    • isEmpty(): Check if collection is empty\n",
    "    • clear(): Remove all elements\n",
    "    • iterator(): Get an iterator for traversal\n",
    "    • toArray(): Convert collection to array[1][7][6]\n",
    "\n",
    "Features Introduced in Java 1.8\n",
    "    • Default and Static Methods: Interfaces like Collection can now have default implementations, such as removeIf(Predicate)[8].\n",
    "    • Streams API: Collections can be converted to streams for functional-style operations (filtering, mapping, reducing, etc.) using the stream() method[1][7][5].\n",
    "    • forEach() Method: Allows iteration using lambda expressions[8][7].\"\"\""
   ]
  },
  {
   "cell_type": "code",
   "execution_count": 48,
   "id": "069b4066",
   "metadata": {},
   "outputs": [],
   "source": [
    "simplify_chain = context_prompt_template | llm"
   ]
  },
  {
   "cell_type": "code",
   "execution_count": 49,
   "id": "69a3667f",
   "metadata": {},
   "outputs": [
    {
     "name": "stdout",
     "output_type": "stream",
     "text": [
      "Okay, imagine you have a box of toys! That's like a \"Collection\" in Java.\n",
      "\n",
      "**Java has a special toolbox for your toy boxes!** This toolbox helps you keep your toys organized. It's called the \"Java Collections Framework\".\n",
      "\n",
      "**Inside the toolbox, there are different kinds of boxes:**\n",
      "\n",
      "*   **List Box:** Like a train! You put your toys in order, one after the other. You can have the same toy more than once! (Like two teddy bears).\n",
      "*   **Set Box:**  A no-duplicates box! You can only have one of each toy. If you try to put another teddy bear in, it won't let you!\n",
      "*   **Queue Box:** Like a line for ice cream!  The first toy you put in is the first one you take out.\n",
      "*   **Map Box:**  Like a treasure map! Each toy has a special name tag (the key) so you can find it easily.  You can't have two toys with the same name tag.\n",
      "\n",
      "**The toolbox also has some tools:**\n",
      "\n",
      "*   **Add:**  To put a toy in the box.\n",
      "*   **Remove:** To take a toy out of the box.\n",
      "*   **How Many:** To count how many toys are in the box.\n",
      "*   **Empty?:** To see if the box is empty.\n",
      "\n",
      "**Java 1.8 (a newer version of Java) made the toolbox even better!**\n",
      "\n",
      "*   **New Tools:**  It added some handy new tools, like one that lets you easily find and remove certain toys (like all the red ones!).\n",
      "*   **Magic Stream:**  It lets you turn your box into a magic stream! You can use this stream to quickly find specific toys, or change them all at once (like coloring all the toys blue!).\n",
      "*   **Telling the Toys:** You can now tell each toy in the box to do something special, all at the same time, like \"wiggle your arms!\".\n",
      "\n"
     ]
    }
   ],
   "source": [
    "result = simplify_chain.invoke({\n",
    "    'context': complext_topic\n",
    "})\n",
    "\n",
    "print(result.content)"
   ]
  },
  {
   "cell_type": "code",
   "execution_count": 50,
   "id": "602d4e78",
   "metadata": {},
   "outputs": [],
   "source": [
    "# Lets write a prompt where we pass the context and ask response to llm\n",
    "question_template = \"\"\"\n",
    "From the context mentioned below\n",
    "{topic}\n",
    "\n",
    "Try giving me three simple multiple choice questions\n",
    "\n",
    "\"\"\"\n",
    "\n",
    "\n",
    "context_prompt_template = PromptTemplate(\n",
    "    input_variables=[\"topic\"],\n",
    "    template=question_template\n",
    ")"
   ]
  },
  {
   "cell_type": "code",
   "execution_count": 55,
   "id": "86f03d2f",
   "metadata": {},
   "outputs": [],
   "source": [
    "Java = \"\"\"\n",
    "Java 1.8 Collections Framework Explained\n",
    "The Java Collections Framework (JCF) is a unified architecture for storing, retrieving, and manipulating groups of objects. It provides a set of interfaces and classes in the java.util package that help developers manage data structures efficiently and consistently[1][2][3][4][5].\n",
    "Key Concepts:\n",
    "    • Collection: A group of objects, known as elements, treated as a single unit.\n",
    "    • Framework: Provides ready-to-use interfaces, implementations, and algorithms for collections[1][2][4].\n",
    "\n",
    "Main Components\n",
    "1. Core Interfaces\n",
    "    • Collection<E>: The root interface for most collection classes (except maps). It defines basic operations like add, remove, size, isEmpty, iterator, and more[1][4][5][6].\n",
    "    • Subinterfaces:\n",
    "        ◦ List<E>: Ordered collections that allow duplicate elements (e.g., ArrayList, LinkedList).\n",
    "        ◦ Set<E>: Unordered collections that do not allow duplicates (e.g., HashSet, TreeSet).\n",
    "        ◦ Queue<E>: Collections designed for holding elements prior to processing (e.g., PriorityQueue).\n",
    "        ◦ Deque<E>: Double-ended queue, supports element insertion/removal at both ends.\n",
    "        ◦ Map<K,V>: Key-value pairs (not a true subinterface of Collection, but part of the framework). Examples: HashMap, TreeMap[4][5].\n",
    "2. Implementing Classes\n",
    "    • ArrayList, LinkedList, Vector, Stack (implement List)\n",
    "    • HashSet, LinkedHashSet, TreeSet (implement Set)\n",
    "    • PriorityQueue, ArrayDeque (implement Queue/Deque)\n",
    "    • HashMap, TreeMap, LinkedHashMap (implement Map)[5][6]\n",
    "\n",
    "Common Methods in Collections\n",
    "    • add(E e): Add an element\n",
    "    • remove(Object o): Remove an element\n",
    "    • contains(Object o): Check if an element exists\n",
    "    • size(): Number of elements\n",
    "    • isEmpty(): Check if collection is empty\n",
    "    • clear(): Remove all elements\n",
    "    • iterator(): Get an iterator for traversal\n",
    "    • toArray(): Convert collection to array[1][7][6]\n",
    "\n",
    "Features Introduced in Java 1.8\n",
    "    • Default and Static Methods: Interfaces like Collection can now have default implementations, such as removeIf(Predicate)[8].\n",
    "    • Streams API: Collections can be converted to streams for functional-style operations (filtering, mapping, reducing, etc.) using the stream() method[1][7][5].\n",
    "    • forEach() Method: Allows iteration using lambda expressions[8][7].\"\"\""
   ]
  },
  {
   "cell_type": "code",
   "execution_count": 56,
   "id": "daedc080",
   "metadata": {},
   "outputs": [],
   "source": [
    "trignometry = \"\"\"\n",
    "The purpose of trigonometry is to study the relationships between the sides and angles of triangles. It's a fundamental branch of mathematics with far-reaching applications in various fields. Here's a breakdown of its key purposes and applications:\n",
    "\n",
    "**1. Measuring Distances and Heights Indirectly:**\n",
    "\n",
    "* **Navigation:** Trigonometry is crucial for determining positions and distances in navigation, whether it's for ships at sea, airplanes in the sky, or even satellite navigation systems. By using angles and known distances, one can calculate unknown distances.\n",
    "* **Surveying:** Surveyors use trigonometry to measure land boundaries, determine elevations, and create accurate maps.\n",
    "* **Astronomy:** Astronomers utilize trigonometry to calculate the distances to stars and planets. Early trigonometric tables were developed for astronomical calculations.\n",
    "* **Architecture and Engineering:** Architects and engineers apply trigonometry to calculate heights of buildings, bridges, and other structures, as well as to determine roof slopes, light angles, and structural loads.\n",
    "* **Geography:** It helps in creating maps and determining distances between landmarks.\n",
    "* **Marine Biology:** Marine biologists use trigonometry to estimate the size of marine animals and understand the depth of sunlight penetration in the ocean.\n",
    "\n",
    "**2. Analyzing Angles and Geometric Shapes:**\n",
    "\n",
    "* **Understanding Relationships in Triangles:** Trigonometry provides the tools to find unknown angles or sides of a triangle when some information is known. This is essential in various geometric and real-world problems.\n",
    "* **Decomposition of Vectors:** In physics and engineering, trigonometry is used to break down forces and velocities into their horizontal and vertical components, making it easier to analyze motion and equilibrium.\n",
    "* **Working with Periodic Phenomena:** Trigonometric functions like sine and cosine are fundamental in describing periodic phenomena such as sound waves, light waves, and oscillations. This is vital in fields like physics, acoustics, and electronics.\n",
    "\n",
    "**3. Applications in Technology and Beyond:**\n",
    "\n",
    "* **Computer Graphics and Video Games:** Trigonometry is used to calculate angles, distances, and movements of objects in 3D graphics and game development, ensuring realistic motion and interactions.\n",
    "* **Music:** The mathematical relationships behind musical sounds and harmonies can be described using trigonometric functions, particularly sine waves.\n",
    "* **Medical Imaging:** Techniques like MRI and CT scans rely on mathematical principles that involve trigonometric concepts.\n",
    "* **Criminology:** Trigonometry can be used to analyze crime scenes, such as calculating the trajectory of projectiles or the angles involved in collisions.\n",
    "* **Cartography:** The creation of maps relies heavily on trigonometric principles to represent the Earth's curved surface on a flat plane.\n",
    "\n",
    "In essence, trigonometry provides a powerful set of tools for understanding and quantifying relationships involving angles and distances. Its applications span numerous scientific, engineering, and everyday contexts, making it an indispensable part of mathematics and its practical uses.\n",
    "\"\"\""
   ]
  },
  {
   "cell_type": "code",
   "execution_count": null,
   "id": "b3e171f1",
   "metadata": {},
   "outputs": [],
   "source": []
  },
  {
   "cell_type": "code",
   "execution_count": 57,
   "id": "fe823d4f",
   "metadata": {},
   "outputs": [],
   "source": [
    "question_chain = context_prompt_template | llm"
   ]
  },
  {
   "cell_type": "code",
   "execution_count": 58,
   "id": "6e6bb353",
   "metadata": {},
   "outputs": [],
   "source": [
    "result = question_chain.invoke({\n",
    "    'topic' : Java\n",
    "})"
   ]
  },
  {
   "cell_type": "code",
   "execution_count": 21,
   "id": "e3459ceb",
   "metadata": {},
   "outputs": [],
   "source": [
    "result = question_chain.invoke({\n",
    "    'topic' : trignometry\n",
    "})"
   ]
  },
  {
   "cell_type": "code",
   "execution_count": 59,
   "id": "01f4dc46",
   "metadata": {},
   "outputs": [
    {
     "name": "stdout",
     "output_type": "stream",
     "text": [
      "Okay, here are three multiple-choice questions based on the provided text about the Java 1.8 Collections Framework:\n",
      "\n",
      "**Question 1:**\n",
      "\n",
      "Which of the following is NOT a core interface in the Java Collections Framework?\n",
      "\n",
      "a)  `List<E>`\n",
      "b)  `Set<E>`\n",
      "c)  `Map<K,V>`\n",
      "d)  `Comparable<T>`\n",
      "\n",
      "**Question 2:**\n",
      "\n",
      "Which of the following statements about the `Set` interface is TRUE?\n",
      "\n",
      "a) It allows duplicate elements.\n",
      "b) It is an ordered collection.\n",
      "c) It is designed for holding elements prior to processing.\n",
      "d) It does not allow duplicate elements.\n",
      "\n",
      "**Question 3:**\n",
      "\n",
      "Which feature was introduced in Java 1.8 that allows collections to be processed using functional-style operations like filtering and mapping?\n",
      "\n",
      "a) Default methods in interfaces\n",
      "b) Streams API\n",
      "c) The `forEach()` method\n",
      "d) The `toArray()` method\n",
      "\n"
     ]
    }
   ],
   "source": [
    "print(result.content)"
   ]
  },
  {
   "cell_type": "code",
   "execution_count": null,
   "id": "54888112",
   "metadata": {},
   "outputs": [],
   "source": []
  }
 ],
 "metadata": {
  "kernelspec": {
   "display_name": "Python 3 (ipykernel)",
   "language": "python",
   "name": "python3"
  },
  "language_info": {
   "codemirror_mode": {
    "name": "ipython",
    "version": 3
   },
   "file_extension": ".py",
   "mimetype": "text/x-python",
   "name": "python",
   "nbconvert_exporter": "python",
   "pygments_lexer": "ipython3",
   "version": "3.11.5"
  }
 },
 "nbformat": 4,
 "nbformat_minor": 5
}
